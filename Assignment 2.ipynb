{
 "cells": [
  {
   "cell_type": "code",
   "execution_count": 29,
   "metadata": {},
   "outputs": [
    {
     "name": "stdout",
     "output_type": "stream",
     "text": [
      "15\n"
     ]
    }
   ],
   "source": [
    "def myreduce(functorun,seq = []):\n",
    "    L = []\n",
    "    for x in seq:\n",
    "        L.append(x)\n",
    "    result = functorun(L)\n",
    "    return result\n",
    "def addition(List = []):\n",
    "    C = 0\n",
    "    for i in range(len(List)):\n",
    "        C = C+List[i]\n",
    "    return C\n",
    "\n",
    "result = myreduce(addition,[0,1,2,3,4,5])\n",
    "print(result)\n",
    "    "
   ]
  },
  {
   "cell_type": "code",
   "execution_count": 140,
   "metadata": {},
   "outputs": [
    {
     "data": {
      "text/plain": [
       "[0, 2, 4, 6]"
      ]
     },
     "execution_count": 140,
     "metadata": {},
     "output_type": "execute_result"
    }
   ],
   "source": [
    "def myFilter(functorun,seq = []):\n",
    "    L = []\n",
    "    for x in seq:\n",
    "        result = functorun(x)\n",
    "        if(result):\n",
    "            L.append(x)\n",
    "    return L\n",
    "def even(x):\n",
    "    if(x%2==0):\n",
    "        return True\n",
    "    else:\n",
    "        return False\n",
    "    \n",
    "myfilter(even,[0,1,2,3,4,5,6])"
   ]
  },
  {
   "cell_type": "code",
   "execution_count": 130,
   "metadata": {},
   "outputs": [
    {
     "name": "stdout",
     "output_type": "stream",
     "text": [
      "VenkatRao\n"
     ]
    }
   ],
   "source": [
    "def longestWord(List = []):\n",
    "    longest = len(List[0])\n",
    "    item = List[0]\n",
    "    for i in List:\n",
    "        if (len(i)>longest):\n",
    "            longest = len(i)\n",
    "            item = i\n",
    "    return item\n",
    "\n",
    "word = longestWord([\"Susmitha\",\"VenkatRao\",\"Bhavani\",\"Baby\"])\n",
    "print(word)\n",
    "            \n",
    "    \n",
    "    "
   ]
  },
  {
   "cell_type": "code",
   "execution_count": 125,
   "metadata": {},
   "outputs": [
    {
     "name": "stdout",
     "output_type": "stream",
     "text": [
      "['xxx', 'xxxx', 'yyy', 'yyyy', 'zzz', 'zzzz']\n"
     ]
    }
   ],
   "source": [
    "def filter_long_words(n,List = []):\n",
    "    L =[]\n",
    "    for x in List:\n",
    "        if(len(x)>n):\n",
    "            L.append(x)\n",
    "    return L\n",
    "List = filter_long_words(2,['x', 'xx', 'xxx', 'xxxx', 'y', 'yy', 'yyy', 'yyyy', 'z', 'zz', 'zzz', 'zzzz'])\n",
    "print(List)"
   ]
  },
  {
   "cell_type": "code",
   "execution_count": 132,
   "metadata": {},
   "outputs": [
    {
     "name": "stdout",
     "output_type": "stream",
     "text": [
      "[2, 3, 4]\n"
     ]
    }
   ],
   "source": [
    "def lenAsList(List = []):\n",
    "    L = []\n",
    "    for x in List:\n",
    "        L.append(len(x))\n",
    "    return L\n",
    "List = lenAsList([ 'ab','cde','erty'])\n",
    "print(List)"
   ]
  },
  {
   "cell_type": "code",
   "execution_count": 139,
   "metadata": {},
   "outputs": [
    {
     "data": {
      "text/plain": [
       "False"
      ]
     },
     "execution_count": 139,
     "metadata": {},
     "output_type": "execute_result"
    }
   ],
   "source": [
    "def vowels(a):\n",
    "    vowels = ['a','e','i','o','u']\n",
    "    if a in vowels:\n",
    "        return True\n",
    "    else:\n",
    "        return False\n",
    "vowels('b')"
   ]
  },
  {
   "cell_type": "code",
   "execution_count": 28,
   "metadata": {},
   "outputs": [
    {
     "name": "stdout",
     "output_type": "stream",
     "text": [
      "Enter the lengths of triangle1 2 3\n",
      "7.685213074469699\n"
     ]
    }
   ],
   "source": [
    "import math\n",
    "class values:\n",
    "    def values(self):\n",
    "        a,b,c = map(int,input(\"Enter the lengths of triangle\").split())\n",
    "        s = a+b+c/2\n",
    "        \n",
    "class area(values):\n",
    "    def area(self):\n",
    "        area = math.sqrt(s*(s-a)*(s-b)*(s-c))\n",
    "        print(area)\n",
    "\n",
    "area1 = area()\n",
    "area1.values()\n",
    "area1.area()\n",
    "\n"
   ]
  },
  {
   "cell_type": "code",
   "execution_count": 21,
   "metadata": {},
   "outputs": [
    {
     "name": "stdout",
     "output_type": "stream",
     "text": [
      "Enter the lengths of triangle1 2 3\n"
     ]
    },
    {
     "data": {
      "text/plain": [
       "float"
      ]
     },
     "execution_count": 21,
     "metadata": {},
     "output_type": "execute_result"
    }
   ],
   "source": [
    "a,b,c = map(int,input(\"Enter the lengths of triangle\").split())\n",
    "s = a+b+c/2\n",
    "type(s)"
   ]
  },
  {
   "cell_type": "code",
   "execution_count": null,
   "metadata": {},
   "outputs": [],
   "source": []
  }
 ],
 "metadata": {
  "kernelspec": {
   "display_name": "Python 3",
   "language": "python",
   "name": "python3"
  },
  "language_info": {
   "codemirror_mode": {
    "name": "ipython",
    "version": 3
   },
   "file_extension": ".py",
   "mimetype": "text/x-python",
   "name": "python",
   "nbconvert_exporter": "python",
   "pygments_lexer": "ipython3",
   "version": "3.6.5"
  }
 },
 "nbformat": 4,
 "nbformat_minor": 2
}
